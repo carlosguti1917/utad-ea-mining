{
 "cells": [
  {
   "cell_type": "code",
   "execution_count": 27,
   "metadata": {},
   "outputs": [
    {
     "name": "stdout",
     "output_type": "stream",
     "text": [
      "aux_matrix[B1][aux] =  1\n",
      "aux_matrix[B1][aux] =  2\n",
      "aux_matrix[B1][aux] =  3\n",
      "aux_matrix[B1][aux] =  4\n",
      "aux_matrix[B2][aux] =  1\n",
      "aux_matrix[B2][aux] =  2\n",
      "aux_matrix[B2][aux] =  3\n",
      "aux_matrix[B2][aux] =  4\n",
      "aux_matrix[B3][aux] =  1\n",
      "aux_matrix[B3][aux] =  2\n",
      "aux_matrix[B3][aux] =  3\n",
      "aux_matrix[B3][aux] =  4\n",
      "aux_matrix[B1][aux] =  1\n",
      "aux_matrix[B1][aux] =  2\n",
      "aux_matrix[B1][aux] =  3\n",
      "aux_matrix[B1][aux] =  4\n",
      "aux_matrix[B2][aux] =  1\n",
      "aux_matrix[B2][aux] =  2\n",
      "aux_matrix[B2][aux] =  3\n",
      "aux_matrix[B2][aux] =  4\n"
     ]
    }
   ],
   "source": [
    "lista1 = [\"B1\", \"B2\", \"B3\", \"B1\", \"B2\"]\n",
    "aux_matrix = {}\n",
    "#aux_val = 0\n",
    "for i in lista1:\n",
    "    aux_matrix[i] = {\"aux\": 0}\n",
    "    for j in range(0, 4):\n",
    "        p = lista1.index(i)\n",
    "        process = lista1[p]\n",
    "        aux_val = aux_matrix[process][\"aux\"]\n",
    "        aux_matrix[process].update({\"aux\": aux_val+1})\n",
    "        print(f\"aux_matrix[{process}][aux] = \", aux_matrix[process][\"aux\"])"
   ]
  }
 ],
 "metadata": {
  "kernelspec": {
   "display_name": "venv",
   "language": "python",
   "name": "python3"
  },
  "language_info": {
   "codemirror_mode": {
    "name": "ipython",
    "version": 3
   },
   "file_extension": ".py",
   "mimetype": "text/x-python",
   "name": "python",
   "nbconvert_exporter": "python",
   "pygments_lexer": "ipython3",
   "version": "3.11.9"
  }
 },
 "nbformat": 4,
 "nbformat_minor": 2
}
