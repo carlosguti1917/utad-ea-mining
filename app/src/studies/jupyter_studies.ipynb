{
 "cells": [
  {
   "cell_type": "code",
   "execution_count": 9,
   "metadata": {},
   "outputs": [
    {
     "name": "stdout",
     "output_type": "stream",
     "text": [
      "The element 'created_at' is at index 1\n",
      "0            id\n",
      "1    created_at\n",
      "2    updated_at\n",
      "dtype: object\n",
      "0\n"
     ]
    }
   ],
   "source": [
    "import pandas as pd\n",
    "\n",
    "attributes_to_ignore = []\n",
    "\n",
    "attributes_to_ignore.append('id')\n",
    "attributes_to_ignore.append('created_at')\n",
    "attributes_to_ignore.append('updated_at')\n",
    "\n",
    "pd_attributes_to_ignore = pd.Series(attributes_to_ignore)\n",
    "\n",
    "index = next((i for i, value in enumerate(attributes_to_ignore) if value == 'created_at'), None)\n",
    "\n",
    "if index is not None:\n",
    "    print(f\"The element '{'created_at'}' is at index {index}\")\n",
    "else:\n",
    "    print(f\"The value '{'created_at'}' is not found in the list\")\n",
    "\n",
    "print(pd_attributes_to_ignore)\n",
    "\n"
   ]
  },
  {
   "cell_type": "code",
   "execution_count": 8,
   "metadata": {},
   "outputs": [
    {
     "name": "stdout",
     "output_type": "stream",
     "text": [
      "process-view.teste\n"
     ]
    }
   ],
   "source": [
    "from owlready2 import *\n",
    "import os\n",
    "import sys # Add missing import statement for sys module\n",
    "file_path = \"C:/gitHub/utad/utad-ea-mining/app/src/api_gateway_load/repository/EA Mining OntoUML Teste V1_1.owl\"\n",
    "if os.path.exists(file_path):\n",
    "    onto = get_ontology(file_path).load()\n",
    "else:\n",
    "    print(f\"File '{file_path}' does not exist.\")\n",
    "    \n",
    "ns_gufo = onto.get_namespace(\"http://purl.org/nemo/gufo#\")\n",
    "ns_core = onto.get_namespace(\"http://eamining.edu.pt/core#\")\n",
    "ns_process_view = onto.get_namespace(\"http://eamining.edu.pt/process-view#\")\n",
    "\n",
    "\n",
    "ftc = ns_process_view.FrequentTemporalCorrelation(\"teste\")\n",
    "print(ftc)\n"
   ]
  },
  {
   "cell_type": "code",
   "execution_count": 11,
   "metadata": {},
   "outputs": [
    {
     "name": "stdout",
     "output_type": "stream",
     "text": [
      "set()\n",
      "EA Mining OntoUML Teste V1_1.attributepair11\n"
     ]
    }
   ],
   "source": [
    "from owlready2 import *\n",
    "import os\n",
    "import sys # Add missing import statement for sys module\n",
    "file_path = \"C:/gitHub/utad/utad-ea-mining/app/src/api_gateway_load/repository/EA Mining OntoUML Teste V1_1.owl\"\n",
    "if os.path.exists(file_path):\n",
    "    onto = get_ontology(file_path).load()\n",
    "else:\n",
    "    print(f\"File '{file_path}' does not exist.\")\n",
    "    \n",
    "ns_gufo = onto.get_namespace(\"http://purl.org/nemo/gufo#\")\n",
    "ns_core = onto.get_namespace(\"http://eamining.edu.pt/core#\")\n",
    "ns_process_view = onto.get_namespace(\"http://eamining.edu.pt/process-view#\")\n",
    "#ns_atribute = onto.get_namespace(\"http://eamining.edu.pt#AttributePair\")\n",
    "#attr = onto.get_namespace(\"http://eamining.edu.pt#AttributePair\")    \n",
    "\n",
    "\n",
    "attribute_pair = onto.AttributePair()\n",
    "attribute_a = ns_core.Attribute(\"atributo_1\")\n",
    "attribute_b = ns_core.Attribute(\"atributo_2\")\n",
    "attribute_pair.attribute_name_a.append(attribute_a)\n",
    "attribute_pair.attribute_name_b.append(attribute_b)\n",
    "\n",
    "ftc = ns_process_view.FrequentTemporalCorrelation()\n",
    "print(ftc.get_properties())\n",
    "#ftc.repeated_attributes.append(attribute_pair)\n",
    "#ftc.repeatead_attributes.append(attribute_pair)\n",
    "#ftc.hasReifiedQualityValue.repeated_attributes.append(attribute_pair)\n",
    "\n",
    "print(attribute_pair)\n"
   ]
  },
  {
   "cell_type": "code",
   "execution_count": 13,
   "metadata": {},
   "outputs": [
    {
     "name": "stdout",
     "output_type": "stream",
     "text": [
      "core.APIResource\n",
      "core.Attribute\n",
      "process-view.FrequentTemporalCorrelation\n",
      "core.APIDocumentation\n",
      "data-relation-view.APIDomain\n",
      "core.APIOperation\n",
      "data-relation-view.CorrelatedDataObjects\n",
      "data-relation-view.DataDomain\n",
      "data-relation-view.APIEntity\n",
      "process-view.Process\n",
      "core.APICall\n",
      "core.ConsumerApp\n",
      "core.Service\n",
      "gufo.QualityValue\n",
      "gufo.Event\n",
      "core.ServiceDestination\n",
      "gufo.FunctionalComplex\n",
      "core.DocumentedAPI\n",
      "gufo.Relator\n",
      "core.OperationExecuted\n",
      "data-relation-view.APIDomainMap\n",
      "data-relation-view.FrequentDataDomainCorrelation\n",
      "data-relation-view.EADataObjectsRelationView\n",
      "gufo.VariableCollection\n",
      "process-view.APIActivitiesConnection\n",
      "process-view.APIAntecedentActivity\n",
      "process-view.Partner\n",
      "process-view.APIConsequentActivity\n",
      "process-view.ProcessElementView\n",
      "gufo.AbstractIndividualType\n",
      "gufo.ComparativeRelationshipType\n",
      "gufo.EventType\n",
      "gufo.Kind\n",
      "gufo.MaterialRelationshipType\n",
      "gufo.Role\n",
      "gufo.SubKind\n",
      "core.AttributePair\n",
      "process-view.EAProcessesView\n"
     ]
    }
   ],
   "source": [
    "from owlready2 import *\n",
    "from datetime import datetime\n",
    "import sys\n",
    "import os\n",
    "import os.path\n",
    "from rdflib import XSD\n",
    "#sys.path.append(os.path.abspath(os.path.join(os.path.dirname(__file__), '..', '..', '..', \"..\")))\n",
    "file_path = \"C:/gitHub/utad/utad-ea-mining/app/src/api_gateway_load/repository/EA Mining OntoUML Teste V1_3.owl\"\n",
    "if os.path.exists(file_path):\n",
    "    onto = get_ontology(file_path).load()\n",
    "else:\n",
    "    print(f\"File '{file_path}' does not exist.\")\n",
    "\n",
    "#from api_gateway_load import configs\n",
    "\n",
    "#onto = get_ontology(\"app/src/api_gateway_load/repository/Onto EA Mining v0.1-RDFXML.owl\").load()\n",
    "#onto_path.append(\"app/src/api_gateway_load/repository/\")  # Set the path to load the ontology\n",
    "#onto = get_ontology(\"Onto EA Mining v0.1-RDFXML.owl\").load()\n",
    "#onto = get_ontology(\"EA Mining OntoUML Teste V1_3.owl\").load()\n",
    "#ns_core = onto.get_namespace(\"http://apieamining.edu.pt/core#\")\n",
    "ns_core = onto.get_namespace(\"http://eamining.edu.pt/core#\")\n",
    "classes = list(onto.classes())  \n",
    "for cls in classes:\n",
    "    print(cls)\n"
   ]
  }
 ],
 "metadata": {
  "kernelspec": {
   "display_name": "venv",
   "language": "python",
   "name": "python3"
  },
  "language_info": {
   "codemirror_mode": {
    "name": "ipython",
    "version": 3
   },
   "file_extension": ".py",
   "mimetype": "text/x-python",
   "name": "python",
   "nbconvert_exporter": "python",
   "pygments_lexer": "ipython3",
   "version": "3.11.9"
  }
 },
 "nbformat": 4,
 "nbformat_minor": 2
}
