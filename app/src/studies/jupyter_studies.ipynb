{
 "cells": [
  {
   "cell_type": "code",
   "execution_count": 9,
   "metadata": {},
   "outputs": [
    {
     "name": "stdout",
     "output_type": "stream",
     "text": [
      "The element 'created_at' is at index 1\n",
      "0            id\n",
      "1    created_at\n",
      "2    updated_at\n",
      "dtype: object\n",
      "0\n"
     ]
    }
   ],
   "source": [
    "import pandas as pd\n",
    "\n",
    "attributes_to_ignore = []\n",
    "\n",
    "attributes_to_ignore.append('id')\n",
    "attributes_to_ignore.append('created_at')\n",
    "attributes_to_ignore.append('updated_at')\n",
    "\n",
    "pd_attributes_to_ignore = pd.Series(attributes_to_ignore)\n",
    "\n",
    "index = next((i for i, value in enumerate(attributes_to_ignore) if value == 'created_at'), None)\n",
    "\n",
    "if index is not None:\n",
    "    print(f\"The element '{'created_at'}' is at index {index}\")\n",
    "else:\n",
    "    print(f\"The value '{'created_at'}' is not found in the list\")\n",
    "\n",
    "print(pd_attributes_to_ignore)\n",
    "\n"
   ]
  },
  {
   "cell_type": "code",
   "execution_count": 8,
   "metadata": {},
   "outputs": [
    {
     "name": "stdout",
     "output_type": "stream",
     "text": [
      "process-view.teste\n"
     ]
    }
   ],
   "source": [
    "from owlready2 import *\n",
    "import os\n",
    "import sys # Add missing import statement for sys module\n",
    "file_path = \"C:/gitHub/utad/utad-ea-mining/app/src/api_gateway_load/repository/EA Mining OntoUML Teste V1_1.owl\"\n",
    "if os.path.exists(file_path):\n",
    "    onto = get_ontology(file_path).load()\n",
    "else:\n",
    "    print(f\"File '{file_path}' does not exist.\")\n",
    "    \n",
    "ns_gufo = onto.get_namespace(\"http://purl.org/nemo/gufo#\")\n",
    "ns_core = onto.get_namespace(\"http://eamining.edu.pt/core#\")\n",
    "ns_process_view = onto.get_namespace(\"http://eamining.edu.pt/process-view#\")\n",
    "\n",
    "\n",
    "ftc = ns_process_view.FrequentTemporalCorrelation(\"teste\")\n",
    "print(ftc)\n"
   ]
  },
  {
   "cell_type": "code",
   "execution_count": 11,
   "metadata": {},
   "outputs": [
    {
     "name": "stdout",
     "output_type": "stream",
     "text": [
      "set()\n",
      "EA Mining OntoUML Teste V1_1.attributepair11\n"
     ]
    }
   ],
   "source": [
    "from owlready2 import *\n",
    "import os\n",
    "import sys # Add missing import statement for sys module\n",
    "file_path = \"C:/gitHub/utad/utad-ea-mining/app/src/api_gateway_load/repository/EA Mining OntoUML Teste V1_1.owl\"\n",
    "if os.path.exists(file_path):\n",
    "    onto = get_ontology(file_path).load()\n",
    "else:\n",
    "    print(f\"File '{file_path}' does not exist.\")\n",
    "    \n",
    "ns_gufo = onto.get_namespace(\"http://purl.org/nemo/gufo#\")\n",
    "ns_core = onto.get_namespace(\"http://eamining.edu.pt/core#\")\n",
    "ns_process_view = onto.get_namespace(\"http://eamining.edu.pt/process-view#\")\n",
    "#ns_atribute = onto.get_namespace(\"http://eamining.edu.pt#AttributePair\")\n",
    "#attr = onto.get_namespace(\"http://eamining.edu.pt#AttributePair\")    \n",
    "\n",
    "\n",
    "attribute_pair = onto.AttributePair()\n",
    "attribute_a = ns_core.Attribute(\"atributo_1\")\n",
    "attribute_b = ns_core.Attribute(\"atributo_2\")\n",
    "attribute_pair.attribute_name_a.append(attribute_a)\n",
    "attribute_pair.attribute_name_b.append(attribute_b)\n",
    "\n",
    "ftc = ns_process_view.FrequentTemporalCorrelation()\n",
    "print(ftc.get_properties())\n",
    "#ftc.repeated_attributes.append(attribute_pair)\n",
    "#ftc.repeatead_attributes.append(attribute_pair)\n",
    "#ftc.hasReifiedQualityValue.repeated_attributes.append(attribute_pair)\n",
    "\n",
    "print(attribute_pair)\n"
   ]
  },
  {
   "cell_type": "code",
   "execution_count": 4,
   "metadata": {},
   "outputs": [
    {
     "name": "stdout",
     "output_type": "stream",
     "text": [
      "EA Mining OntoUML Teste V1_3.acmeapp\n"
     ]
    }
   ],
   "source": [
    "from owlready2 import *\n",
    "import sys\n",
    "import os\n",
    "import os.path\n",
    "from rdflib import XSD\n",
    "#sys.path.append(os.path.abspath(os.path.join(os.path.dirname(__file__), '..', '..', '..', \"..\")))\n",
    "file_path = \"C:/gitHub/utad/utad-ea-mining/app/src/api_gateway_load/repository/EA Mining OntoUML Teste V1_3.owl\"\n",
    "if os.path.exists(file_path):\n",
    "    onto = get_ontology(file_path).load()\n",
    "else:\n",
    "    print(f\"File '{file_path}' does not exist.\")\n",
    "\n",
    "#from api_gateway_load import configs\n",
    "\n",
    "#onto = get_ontology(\"app/src/api_gateway_load/repository/Onto EA Mining v0.1-RDFXML.owl\").load()\n",
    "ns_core = onto.get_namespace(\"http://eamining.edu.pt/core#\")\n",
    "ns_process_view = onto.get_namespace(\"http://eamining.edu.pt/process-view#\")\n",
    "#classes = list(onto.classes())  \n",
    "\n",
    "onto_class = ns_process_view.Partner\n",
    "individual_name = 'acmeapp'\n",
    "\n",
    "individuals = onto.search(type=onto_class, iri=\"http://eamining.edu.pt/\"+individual_name+\"\")     \n",
    "# Check if the individual exists\n",
    "if individuals and len(individuals) == 1:\n",
    "    print (individuals[0])\n",
    "    # Access individual properties or perform further operations\n",
    "elif individuals and len(individuals) > 1:\n",
    "    print(f\"More than one individual '{individual_name}' of class '{onto_class}' was found.\") \n",
    "else:\n",
    "    print(f\"Individual '{individual_name}' of class '{onto_class}' was not found.\")\n",
    "    \n",
    "    "
   ]
  },
  {
   "cell_type": "code",
   "execution_count": null,
   "metadata": {},
   "outputs": [],
   "source": [
    "### Check correlations of a especific atributte\n",
    "\n",
    "from owlready2 import *\n",
    "import sys\n",
    "import os\n",
    "sys.path.append(os.path.abspath(os.path.join(os.path.dirname(__file__), '..', '..', '..')))\n",
    "file_path = \"C:/gitHub/utad/utad-ea-mining/app/src/api_gateway_load/repository/EA Mining OntoUML Teste V1_3.owl\"\n",
    "from api_gateway_load import configs\n",
    "onto = get_ontology(file_path).load()\n",
    "from api_gateway_load.kong.service.ontology.process_view import ExtractOntoProcessView\n",
    "\n",
    "\n",
    "#mining process view\n",
    "ExtractOntoProcessView.verify_attribute_utility(\"cliente.products.statusPedidos.origem\" ,onto) \n"
   ]
  },
  {
   "cell_type": "code",
   "execution_count": null,
   "metadata": {},
   "outputs": [],
   "source": [
    "### Test get_onto_resource_attributes_from_json\n",
    "\n",
    "import sys\n",
    "import os\n",
    "#sys.path.append(os.path.abspath(os.path.join(os.path.dirname(__file__), '..', '..', '..')))\n",
    "#sys.path.append('c:/gitHub/utad/utad-ea-mining/app/src')\n",
    "#sys.path.append('c:\\\\gitHub\\\\utad\\\\utad-ea-mining\\\\app\\\\src')\n",
    "sys.path.append('/app/src/api_gateway_load')\n",
    "import sys\n",
    "\n",
    "from api_gateway_load.kong.service.ontology.ExtractOntoCore import ExtractOntoCore\n",
    "\n",
    "# Add the path of the installed packages\n",
    "#sys.path.append('/path/to/site-packages')\n",
    "\n",
    "\n",
    "from owlready2 import *\n",
    "#from api_gateway_load.kong.service.ontology import ExtractOntoCore\n",
    "\n",
    "\n",
    "file_path = \"C:/gitHub/utad/utad-ea-mining/app/src/api_gateway_load/repository/EA Mining OntoUML Teste V1_3.owl\"\n",
    "onto = get_ontology(file_path).load()\n",
    "\n",
    "attribute_list = []\n",
    "ns_core = onto.get_namespace(\"http://eamining.edu.pt/core#\")\n",
    "api_resource = ns_core.APIResource(\"teste\")\n",
    "json_obj = \"\"\"\n",
    "{\n",
    "    \"numPedido\": 1001,\n",
    "    \"dataPedido\": \"2021-08-06T12:59:59.550-03:00\",\n",
    "    \"codigo\": 12345,\n",
    "    \"statusPedidos\": \"APROVADO\",\n",
    "    \"origem\": \"App IOS\",\n",
    "    \"cart\" : {\n",
    "        \"cartid\": 3456,\n",
    "        \"cliente\": 12345,\n",
    "        \"itens\": [\n",
    "            {\n",
    "                \"sku\": 12,\n",
    "                \"produto\": \"Produto 1\",\n",
    "                \"valor\": 99.99\n",
    "            },\n",
    "            {\n",
    "                \"sku\": 34,\n",
    "                \"produto\": \"Produto 2\",\n",
    "                \"valor\": 199.99\n",
    "            },\n",
    "            {\n",
    "                \"sku\": 35,\n",
    "                \"produto\": \"Produto 2\",\n",
    "                \"valor\": 299.99\n",
    "            }\n",
    "        ]\n",
    "    }    \n",
    "}\"\"\"\n",
    "\n",
    "\n",
    "t = ExtractOntoCore.get_onto_resource_attributes_from_json(attribute_list, api_resource, json_obj, '')\n",
    "\n",
    "\n"
   ]
  }
 ],
 "metadata": {
  "kernelspec": {
   "display_name": "venv",
   "language": "python",
   "name": "python3"
  },
  "language_info": {
   "codemirror_mode": {
    "name": "ipython",
    "version": 3
   },
   "file_extension": ".py",
   "mimetype": "text/x-python",
   "name": "python",
   "nbconvert_exporter": "python",
   "pygments_lexer": "ipython3",
   "version": "3.12.1"
  }
 },
 "nbformat": 4,
 "nbformat_minor": 2
}
