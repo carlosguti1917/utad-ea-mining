{
 "cells": [
  {
   "cell_type": "code",
   "execution_count": 9,
   "metadata": {},
   "outputs": [
    {
     "name": "stdout",
     "output_type": "stream",
     "text": [
      "The element 'created_at' is at index 1\n",
      "0            id\n",
      "1    created_at\n",
      "2    updated_at\n",
      "dtype: object\n",
      "0\n"
     ]
    }
   ],
   "source": [
    "import pandas as pd\n",
    "\n",
    "attributes_to_ignore = []\n",
    "\n",
    "attributes_to_ignore.append('id')\n",
    "attributes_to_ignore.append('created_at')\n",
    "attributes_to_ignore.append('updated_at')\n",
    "\n",
    "pd_attributes_to_ignore = pd.Series(attributes_to_ignore)\n",
    "\n",
    "index = next((i for i, value in enumerate(attributes_to_ignore) if value == 'created_at'), None)\n",
    "\n",
    "if index is not None:\n",
    "    print(f\"The element '{'created_at'}' is at index {index}\")\n",
    "else:\n",
    "    print(f\"The value '{'created_at'}' is not found in the list\")\n",
    "\n",
    "print(pd_attributes_to_ignore)\n"
   ]
  }
 ],
 "metadata": {
  "kernelspec": {
   "display_name": "venv",
   "language": "python",
   "name": "python3"
  },
  "language_info": {
   "codemirror_mode": {
    "name": "ipython",
    "version": 3
   },
   "file_extension": ".py",
   "mimetype": "text/x-python",
   "name": "python",
   "nbconvert_exporter": "python",
   "pygments_lexer": "ipython3",
   "version": "3.12.1"
  }
 },
 "nbformat": 4,
 "nbformat_minor": 2
}
